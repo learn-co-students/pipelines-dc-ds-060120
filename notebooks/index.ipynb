{
 "cells": [
  {
   "cell_type": "code",
   "execution_count": 1,
   "metadata": {
    "ExecuteTime": {
     "end_time": "2020-06-26T23:51:23.166896Z",
     "start_time": "2020-06-26T23:51:22.287488Z"
    },
    "code_folding": []
   },
   "outputs": [],
   "source": [
    "# Import packages \n",
    "\n",
    "# Add .. to access parent directory\n",
    "import sys\n",
    "sys.path.append(\"../\")\n",
    "\n",
    "# Standard Imports\n",
    "import pandas as pd\n",
    "import seaborn as sns\n",
    "import numpy as np\n",
    "import matplotlib.pyplot as plt\n",
    "import pickle\n",
    "\n",
    "# Transformers\n",
    "from sklearn.preprocessing import LabelEncoder, OneHotEncoder, StandardScaler, MinMaxScaler\n",
    "\n",
    "# Modeling Evaluation\n",
    "from sklearn.model_selection import train_test_split, cross_val_score, KFold, GridSearchCV\n",
    "from sklearn.metrics import accuracy_score, precision_score, recall_score,f1_score, confusion_matrix, classification_report\n",
    "from IPython.display import display, Markdown\n",
    "\n",
    "# Pipelines\n",
    "from sklearn.pipeline import Pipeline, FeatureUnion\n",
    "from sklearn.base import BaseEstimator, TransformerMixin\n",
    "from sklearn.compose import ColumnTransformer\n",
    "\n",
    "# Machine Learning\n",
    "from sklearn.tree import DecisionTreeClassifier\n",
    "from sklearn.ensemble import RandomForestClassifier"
   ]
  },
  {
   "cell_type": "markdown",
   "metadata": {},
   "source": [
    "**For this exercise, we will use an [income classification dataset](https://www.kaggle.com/lodetomasi1995/income-classification/data).**\n",
    "\n",
    "Our data is seperated into two files:\n",
    "- Training Data\n",
    "    - 29,305 rows\n",
    "- Validation Data\n",
    "    - 3,256 rows\n",
    "    \n",
    "    \n",
    "**Outline**\n",
    "1. Transform data\n",
    "2. Fit a model\n",
    "3. Create a pipeline\n",
    "4. Predict on unseen data\n",
    "5. Save pipeline"
   ]
  },
  {
   "cell_type": "code",
   "execution_count": 2,
   "metadata": {
    "ExecuteTime": {
     "end_time": "2020-06-26T23:51:23.258902Z",
     "start_time": "2020-06-26T23:51:23.169647Z"
    }
   },
   "outputs": [
    {
     "data": {
      "text/html": [
       "<div>\n",
       "<style scoped>\n",
       "    .dataframe tbody tr th:only-of-type {\n",
       "        vertical-align: middle;\n",
       "    }\n",
       "\n",
       "    .dataframe tbody tr th {\n",
       "        vertical-align: top;\n",
       "    }\n",
       "\n",
       "    .dataframe thead th {\n",
       "        text-align: right;\n",
       "    }\n",
       "</style>\n",
       "<table border=\"1\" class=\"dataframe\">\n",
       "  <thead>\n",
       "    <tr style=\"text-align: right;\">\n",
       "      <th></th>\n",
       "      <th>Unnamed:_0</th>\n",
       "      <th>age</th>\n",
       "      <th>workclass</th>\n",
       "      <th>fnlwgt</th>\n",
       "      <th>education</th>\n",
       "      <th>education_num</th>\n",
       "      <th>marital_status</th>\n",
       "      <th>occupation</th>\n",
       "      <th>relationship</th>\n",
       "      <th>race</th>\n",
       "      <th>sex</th>\n",
       "      <th>capital_gain</th>\n",
       "      <th>capital_loss</th>\n",
       "      <th>hours_per_week</th>\n",
       "      <th>native_country</th>\n",
       "      <th>income</th>\n",
       "    </tr>\n",
       "  </thead>\n",
       "  <tbody>\n",
       "    <tr>\n",
       "      <th>0</th>\n",
       "      <td>0</td>\n",
       "      <td>39</td>\n",
       "      <td>State-gov</td>\n",
       "      <td>77516</td>\n",
       "      <td>Bachelors</td>\n",
       "      <td>13</td>\n",
       "      <td>Never-married</td>\n",
       "      <td>Adm-clerical</td>\n",
       "      <td>Not-in-family</td>\n",
       "      <td>White</td>\n",
       "      <td>Male</td>\n",
       "      <td>2174</td>\n",
       "      <td>0</td>\n",
       "      <td>40</td>\n",
       "      <td>United-States</td>\n",
       "      <td>&lt;=50K</td>\n",
       "    </tr>\n",
       "    <tr>\n",
       "      <th>1</th>\n",
       "      <td>1</td>\n",
       "      <td>50</td>\n",
       "      <td>Self-emp-not-inc</td>\n",
       "      <td>83311</td>\n",
       "      <td>Bachelors</td>\n",
       "      <td>13</td>\n",
       "      <td>Married-civ-spouse</td>\n",
       "      <td>Exec-managerial</td>\n",
       "      <td>Husband</td>\n",
       "      <td>White</td>\n",
       "      <td>Male</td>\n",
       "      <td>0</td>\n",
       "      <td>0</td>\n",
       "      <td>13</td>\n",
       "      <td>United-States</td>\n",
       "      <td>&lt;=50K</td>\n",
       "    </tr>\n",
       "  </tbody>\n",
       "</table>\n",
       "</div>"
      ],
      "text/plain": [
       "   Unnamed:_0  age          workclass  fnlwgt   education  education_num  \\\n",
       "0           0   39          State-gov   77516   Bachelors             13   \n",
       "1           1   50   Self-emp-not-inc   83311   Bachelors             13   \n",
       "\n",
       "        marital_status        occupation    relationship    race    sex  \\\n",
       "0        Never-married      Adm-clerical   Not-in-family   White   Male   \n",
       "1   Married-civ-spouse   Exec-managerial         Husband   White   Male   \n",
       "\n",
       "   capital_gain  capital_loss  hours_per_week  native_country  income  \n",
       "0          2174             0              40   United-States   <=50K  \n",
       "1             0             0              13   United-States   <=50K  "
      ]
     },
     "execution_count": 2,
     "metadata": {},
     "output_type": "execute_result"
    }
   ],
   "source": [
    "# Import data\n",
    "df = pd.read_csv('../data/training.csv')\n",
    "# Reform column names\n",
    "df.columns = [x.strip().replace(' ', '_').replace('-', '_') for x in df.columns]\n",
    "\n",
    "df.head(2)"
   ]
  },
  {
   "cell_type": "markdown",
   "metadata": {},
   "source": [
    "## Some basic cleaning"
   ]
  },
  {
   "cell_type": "markdown",
   "metadata": {},
   "source": [
    "As is common with csv files, pandas is reading in the ```index``` of the dataset as a column called ```Unnamed_0```. \n",
    "\n",
    "Let's drop this column because it has no relationship without target variable."
   ]
  },
  {
   "cell_type": "code",
   "execution_count": 3,
   "metadata": {
    "ExecuteTime": {
     "end_time": "2020-06-26T23:51:23.276140Z",
     "start_time": "2020-06-26T23:51:23.261449Z"
    }
   },
   "outputs": [
    {
     "data": {
      "text/html": [
       "<div>\n",
       "<style scoped>\n",
       "    .dataframe tbody tr th:only-of-type {\n",
       "        vertical-align: middle;\n",
       "    }\n",
       "\n",
       "    .dataframe tbody tr th {\n",
       "        vertical-align: top;\n",
       "    }\n",
       "\n",
       "    .dataframe thead th {\n",
       "        text-align: right;\n",
       "    }\n",
       "</style>\n",
       "<table border=\"1\" class=\"dataframe\">\n",
       "  <thead>\n",
       "    <tr style=\"text-align: right;\">\n",
       "      <th></th>\n",
       "      <th>age</th>\n",
       "      <th>workclass</th>\n",
       "      <th>fnlwgt</th>\n",
       "      <th>education</th>\n",
       "      <th>education_num</th>\n",
       "      <th>marital_status</th>\n",
       "      <th>occupation</th>\n",
       "      <th>relationship</th>\n",
       "      <th>race</th>\n",
       "      <th>sex</th>\n",
       "      <th>capital_gain</th>\n",
       "      <th>capital_loss</th>\n",
       "      <th>hours_per_week</th>\n",
       "      <th>native_country</th>\n",
       "      <th>income</th>\n",
       "    </tr>\n",
       "  </thead>\n",
       "  <tbody>\n",
       "    <tr>\n",
       "      <th>0</th>\n",
       "      <td>39</td>\n",
       "      <td>State-gov</td>\n",
       "      <td>77516</td>\n",
       "      <td>Bachelors</td>\n",
       "      <td>13</td>\n",
       "      <td>Never-married</td>\n",
       "      <td>Adm-clerical</td>\n",
       "      <td>Not-in-family</td>\n",
       "      <td>White</td>\n",
       "      <td>Male</td>\n",
       "      <td>2174</td>\n",
       "      <td>0</td>\n",
       "      <td>40</td>\n",
       "      <td>United-States</td>\n",
       "      <td>&lt;=50K</td>\n",
       "    </tr>\n",
       "    <tr>\n",
       "      <th>1</th>\n",
       "      <td>50</td>\n",
       "      <td>Self-emp-not-inc</td>\n",
       "      <td>83311</td>\n",
       "      <td>Bachelors</td>\n",
       "      <td>13</td>\n",
       "      <td>Married-civ-spouse</td>\n",
       "      <td>Exec-managerial</td>\n",
       "      <td>Husband</td>\n",
       "      <td>White</td>\n",
       "      <td>Male</td>\n",
       "      <td>0</td>\n",
       "      <td>0</td>\n",
       "      <td>13</td>\n",
       "      <td>United-States</td>\n",
       "      <td>&lt;=50K</td>\n",
       "    </tr>\n",
       "  </tbody>\n",
       "</table>\n",
       "</div>"
      ],
      "text/plain": [
       "   age          workclass  fnlwgt   education  education_num  \\\n",
       "0   39          State-gov   77516   Bachelors             13   \n",
       "1   50   Self-emp-not-inc   83311   Bachelors             13   \n",
       "\n",
       "        marital_status        occupation    relationship    race    sex  \\\n",
       "0        Never-married      Adm-clerical   Not-in-family   White   Male   \n",
       "1   Married-civ-spouse   Exec-managerial         Husband   White   Male   \n",
       "\n",
       "   capital_gain  capital_loss  hours_per_week  native_country  income  \n",
       "0          2174             0              40   United-States   <=50K  \n",
       "1             0             0              13   United-States   <=50K  "
      ]
     },
     "execution_count": 3,
     "metadata": {},
     "output_type": "execute_result"
    }
   ],
   "source": [
    "df = df.iloc[:,1:]\n",
    "df.head(2)"
   ]
  },
  {
   "cell_type": "code",
   "execution_count": 4,
   "metadata": {
    "ExecuteTime": {
     "end_time": "2020-06-26T23:51:23.290001Z",
     "start_time": "2020-06-26T23:51:23.278257Z"
    }
   },
   "outputs": [],
   "source": [
    "target_labeler = LabelEncoder()\n",
    "df.income = target_labeler.fit_transform(df.income)"
   ]
  },
  {
   "cell_type": "markdown",
   "metadata": {},
   "source": [
    "# EDA\n",
    "\n",
    "EDA can be found in the [EDA Notebook](./EDA.ipynb)."
   ]
  },
  {
   "cell_type": "markdown",
   "metadata": {},
   "source": [
    "# Modeling"
   ]
  },
  {
   "cell_type": "code",
   "execution_count": 5,
   "metadata": {
    "ExecuteTime": {
     "end_time": "2020-06-26T23:51:23.297676Z",
     "start_time": "2020-06-26T23:51:23.291971Z"
    },
    "code_folding": []
   },
   "outputs": [],
   "source": [
    "def model_report(name, scores):\n",
    "\n",
    "    template = '''### {}\\n\\n|        \t|    \t|\n",
    "|---------------\t|----\t|\n",
    "| Minimum Score \t| {} \t|\n",
    "| Average Score \t| {} \t|\n",
    "| Maximum Score \t| {} \t|'''.format(name, scores.min(), scores.mean(), scores.max())\n",
    "    \n",
    "    display(Markdown(template))\n",
    "\n",
    "def evaluation(y, y_hat, title = 'Confusion Matrix'):\n",
    "    '''takes in true values and predicted values.\n",
    "    The function then prints out a classifcation report\n",
    "    as well as a confusion matrix using seaborn's heatmap.'''\n",
    "    cm = confusion_matrix(y, y_hat)\n",
    "    precision = precision_score(y, y_hat, average = 'weighted')\n",
    "    recall = recall_score(y, y_hat, average = 'weighted')\n",
    "    accuracy = accuracy_score(y,y_hat)\n",
    "    print(classification_report(y, y_hat))\n",
    "    print('Accurancy: ', accuracy)\n",
    "    sns.heatmap(cm,  cmap= 'Greens', annot=True)\n",
    "    plt.xlabel('predicted')\n",
    "    plt.ylabel('actual')\n",
    "    plt.title(title)\n",
    "    plt.show()"
   ]
  },
  {
   "cell_type": "markdown",
   "metadata": {
    "ExecuteTime": {
     "end_time": "2020-06-26T15:55:21.690596Z",
     "start_time": "2020-06-26T15:55:21.685041Z"
    },
    "code_folding": []
   },
   "source": [
    "## Baseline"
   ]
  },
  {
   "cell_type": "markdown",
   "metadata": {},
   "source": [
    "**We will drop the following features.**\n",
    "\n",
    "- Income\n",
    "    - This is our target column and should not be included as a predictor\n",
    "- fnlwgt\n",
    "    - This feature represents weights assigned by the Census Search Results Bureau. \n",
    "- race & sex\n",
    "    - If the point of our modeling were to statistical tests to examine the relationship between race and sex, including these features would likely be fine. Using them for purely predictive purpose, in my, is not appropriate.\n",
    "    \n",
    "    \n",
    "And we will convert the ```education_num``` to string so it will be considered categorical."
   ]
  },
  {
   "cell_type": "code",
   "execution_count": 6,
   "metadata": {
    "ExecuteTime": {
     "end_time": "2020-06-26T23:51:23.318870Z",
     "start_time": "2020-06-26T23:51:23.300798Z"
    }
   },
   "outputs": [],
   "source": [
    "dropped_columns = ['income', 'fnlwgt', 'race', 'sex']\n",
    "df.education_num = df.education_num.astype(str)"
   ]
  },
  {
   "cell_type": "markdown",
   "metadata": {
    "ExecuteTime": {
     "end_time": "2020-06-26T16:00:41.281623Z",
     "start_time": "2020-06-26T16:00:41.276411Z"
    }
   },
   "source": [
    "Let's create a baseline Decision Tree model on our numerical columns.\n",
    "\n",
    "Let's start by creating two arrays for categorical and numerical features."
   ]
  },
  {
   "cell_type": "code",
   "execution_count": 7,
   "metadata": {
    "ExecuteTime": {
     "end_time": "2020-06-26T23:51:23.347404Z",
     "start_time": "2020-06-26T23:51:23.321424Z"
    }
   },
   "outputs": [],
   "source": [
    "categorical_columns = df.drop(dropped_columns, axis = 1)\\\n",
    "                        .select_dtypes('object')\\\n",
    "                        .columns\n",
    "\n",
    "numerical_columns = df.drop(dropped_columns, axis = 1)\\\n",
    "                      .select_dtypes('number')\\\n",
    "                      .columns"
   ]
  },
  {
   "cell_type": "code",
   "execution_count": 8,
   "metadata": {
    "ExecuteTime": {
     "end_time": "2020-06-26T23:51:23.351936Z",
     "start_time": "2020-06-26T23:51:23.349335Z"
    }
   },
   "outputs": [],
   "source": [
    "def first_split():\n",
    "    return train_test_split(df[numerical_columns], df.income, random_state=2020) "
   ]
  },
  {
   "cell_type": "code",
   "execution_count": 9,
   "metadata": {
    "ExecuteTime": {
     "end_time": "2020-06-26T23:51:23.360557Z",
     "start_time": "2020-06-26T23:51:23.353871Z"
    }
   },
   "outputs": [],
   "source": [
    "X_train, X_test, y_train, y_test = first_split()"
   ]
  },
  {
   "cell_type": "markdown",
   "metadata": {},
   "source": [
    "Based on our EDA, we will bin the `age`, `capital_gain`, and `capital_loss` columns\n",
    "\n",
    "We will apply a Standard Scaler to the ```hours_per_week``` columns."
   ]
  },
  {
   "cell_type": "code",
   "execution_count": 10,
   "metadata": {
    "ExecuteTime": {
     "end_time": "2020-06-26T23:51:23.374392Z",
     "start_time": "2020-06-26T23:51:23.362269Z"
    }
   },
   "outputs": [
    {
     "data": {
      "text/html": [
       "<div>\n",
       "<style scoped>\n",
       "    .dataframe tbody tr th:only-of-type {\n",
       "        vertical-align: middle;\n",
       "    }\n",
       "\n",
       "    .dataframe tbody tr th {\n",
       "        vertical-align: top;\n",
       "    }\n",
       "\n",
       "    .dataframe thead th {\n",
       "        text-align: right;\n",
       "    }\n",
       "</style>\n",
       "<table border=\"1\" class=\"dataframe\">\n",
       "  <thead>\n",
       "    <tr style=\"text-align: right;\">\n",
       "      <th></th>\n",
       "      <th>age</th>\n",
       "      <th>workclass</th>\n",
       "      <th>fnlwgt</th>\n",
       "      <th>education</th>\n",
       "      <th>education_num</th>\n",
       "      <th>marital_status</th>\n",
       "      <th>occupation</th>\n",
       "      <th>relationship</th>\n",
       "      <th>race</th>\n",
       "      <th>sex</th>\n",
       "      <th>capital_gain</th>\n",
       "      <th>capital_loss</th>\n",
       "      <th>hours_per_week</th>\n",
       "      <th>native_country</th>\n",
       "      <th>income</th>\n",
       "    </tr>\n",
       "  </thead>\n",
       "  <tbody>\n",
       "    <tr>\n",
       "      <th>0</th>\n",
       "      <td>39</td>\n",
       "      <td>State-gov</td>\n",
       "      <td>77516</td>\n",
       "      <td>Bachelors</td>\n",
       "      <td>13</td>\n",
       "      <td>Never-married</td>\n",
       "      <td>Adm-clerical</td>\n",
       "      <td>Not-in-family</td>\n",
       "      <td>White</td>\n",
       "      <td>Male</td>\n",
       "      <td>2174</td>\n",
       "      <td>0</td>\n",
       "      <td>40</td>\n",
       "      <td>United-States</td>\n",
       "      <td>0</td>\n",
       "    </tr>\n",
       "    <tr>\n",
       "      <th>1</th>\n",
       "      <td>50</td>\n",
       "      <td>Self-emp-not-inc</td>\n",
       "      <td>83311</td>\n",
       "      <td>Bachelors</td>\n",
       "      <td>13</td>\n",
       "      <td>Married-civ-spouse</td>\n",
       "      <td>Exec-managerial</td>\n",
       "      <td>Husband</td>\n",
       "      <td>White</td>\n",
       "      <td>Male</td>\n",
       "      <td>0</td>\n",
       "      <td>0</td>\n",
       "      <td>13</td>\n",
       "      <td>United-States</td>\n",
       "      <td>0</td>\n",
       "    </tr>\n",
       "    <tr>\n",
       "      <th>2</th>\n",
       "      <td>38</td>\n",
       "      <td>Private</td>\n",
       "      <td>215646</td>\n",
       "      <td>HS-grad</td>\n",
       "      <td>9</td>\n",
       "      <td>Divorced</td>\n",
       "      <td>Handlers-cleaners</td>\n",
       "      <td>Not-in-family</td>\n",
       "      <td>White</td>\n",
       "      <td>Male</td>\n",
       "      <td>0</td>\n",
       "      <td>0</td>\n",
       "      <td>40</td>\n",
       "      <td>United-States</td>\n",
       "      <td>0</td>\n",
       "    </tr>\n",
       "    <tr>\n",
       "      <th>3</th>\n",
       "      <td>53</td>\n",
       "      <td>Private</td>\n",
       "      <td>234721</td>\n",
       "      <td>11th</td>\n",
       "      <td>7</td>\n",
       "      <td>Married-civ-spouse</td>\n",
       "      <td>Handlers-cleaners</td>\n",
       "      <td>Husband</td>\n",
       "      <td>Black</td>\n",
       "      <td>Male</td>\n",
       "      <td>0</td>\n",
       "      <td>0</td>\n",
       "      <td>40</td>\n",
       "      <td>United-States</td>\n",
       "      <td>0</td>\n",
       "    </tr>\n",
       "    <tr>\n",
       "      <th>4</th>\n",
       "      <td>28</td>\n",
       "      <td>Private</td>\n",
       "      <td>338409</td>\n",
       "      <td>Bachelors</td>\n",
       "      <td>13</td>\n",
       "      <td>Married-civ-spouse</td>\n",
       "      <td>Prof-specialty</td>\n",
       "      <td>Wife</td>\n",
       "      <td>Black</td>\n",
       "      <td>Female</td>\n",
       "      <td>0</td>\n",
       "      <td>0</td>\n",
       "      <td>40</td>\n",
       "      <td>Cuba</td>\n",
       "      <td>0</td>\n",
       "    </tr>\n",
       "  </tbody>\n",
       "</table>\n",
       "</div>"
      ],
      "text/plain": [
       "   age          workclass  fnlwgt   education education_num  \\\n",
       "0   39          State-gov   77516   Bachelors            13   \n",
       "1   50   Self-emp-not-inc   83311   Bachelors            13   \n",
       "2   38            Private  215646     HS-grad             9   \n",
       "3   53            Private  234721        11th             7   \n",
       "4   28            Private  338409   Bachelors            13   \n",
       "\n",
       "        marital_status          occupation    relationship    race      sex  \\\n",
       "0        Never-married        Adm-clerical   Not-in-family   White     Male   \n",
       "1   Married-civ-spouse     Exec-managerial         Husband   White     Male   \n",
       "2             Divorced   Handlers-cleaners   Not-in-family   White     Male   \n",
       "3   Married-civ-spouse   Handlers-cleaners         Husband   Black     Male   \n",
       "4   Married-civ-spouse      Prof-specialty            Wife   Black   Female   \n",
       "\n",
       "   capital_gain  capital_loss  hours_per_week  native_country  income  \n",
       "0          2174             0              40   United-States       0  \n",
       "1             0             0              13   United-States       0  \n",
       "2             0             0              40   United-States       0  \n",
       "3             0             0              40   United-States       0  \n",
       "4             0             0              40            Cuba       0  "
      ]
     },
     "execution_count": 10,
     "metadata": {},
     "output_type": "execute_result"
    }
   ],
   "source": [
    "df.head()"
   ]
  },
  {
   "cell_type": "code",
   "execution_count": 11,
   "metadata": {
    "ExecuteTime": {
     "end_time": "2020-06-26T23:51:23.428025Z",
     "start_time": "2020-06-26T23:51:23.376638Z"
    }
   },
   "outputs": [],
   "source": [
    "def bin_middle_age(age):\n",
    "    if age < 45:\n",
    "        return 0 \n",
    "    elif age > 64:\n",
    "        return 0\n",
    "    else: \n",
    "        return 1\n",
    "    \n",
    "def bin_capital(x):\n",
    "    if x > 0:\n",
    "        return 1\n",
    "    else:\n",
    "        return 0\n",
    "    \n",
    "# Scale Data\n",
    "hours_scaler = StandardScaler()\n",
    "X_train.hours_per_week = hours_scaler.fit_transform(X_train['hours_per_week'].values.reshape(-1,1))\n",
    "\n",
    "# Bin Data\n",
    "X_train.age = X_train.age.apply(bin_middle_age)\n",
    "X_train.capital_gain = X_train.capital_gain.apply(bin_capital)\n",
    "X_train.capital_loss = X_train.capital_loss.apply(bin_capital)"
   ]
  },
  {
   "cell_type": "code",
   "execution_count": 12,
   "metadata": {
    "ExecuteTime": {
     "end_time": "2020-06-26T23:51:23.441111Z",
     "start_time": "2020-06-26T23:51:23.430222Z"
    }
   },
   "outputs": [
    {
     "data": {
      "text/plain": [
       "DecisionTreeClassifier(ccp_alpha=0.0, class_weight=None, criterion='gini',\n",
       "                       max_depth=None, max_features=None, max_leaf_nodes=None,\n",
       "                       min_impurity_decrease=0.0, min_impurity_split=None,\n",
       "                       min_samples_leaf=1, min_samples_split=2,\n",
       "                       min_weight_fraction_leaf=0.0, presort='deprecated',\n",
       "                       random_state=None, splitter='best')"
      ]
     },
     "execution_count": 12,
     "metadata": {},
     "output_type": "execute_result"
    }
   ],
   "source": [
    "baseline_model = DecisionTreeClassifier()\n",
    "baseline_model.fit(X_train, y_train)"
   ]
  },
  {
   "cell_type": "code",
   "execution_count": 13,
   "metadata": {
    "ExecuteTime": {
     "end_time": "2020-06-26T23:51:23.771666Z",
     "start_time": "2020-06-26T23:51:23.443253Z"
    }
   },
   "outputs": [
    {
     "name": "stdout",
     "output_type": "stream",
     "text": [
      "              precision    recall  f1-score   support\n",
      "\n",
      "           0       0.80      0.97      0.88     16681\n",
      "           1       0.72      0.24      0.36      5297\n",
      "\n",
      "    accuracy                           0.79     21978\n",
      "   macro avg       0.76      0.61      0.62     21978\n",
      "weighted avg       0.78      0.79      0.75     21978\n",
      "\n",
      "Accurancy:  0.7945672945672946\n"
     ]
    },
    {
     "data": {
      "image/png": "[encoded data removed]",
      "text/plain": [
       "<Figure size 432x288 with 2 Axes>"
      ]
     },
     "metadata": {
      "needs_background": "light"
     },
     "output_type": "display_data"
    },
    {
     "name": "stdout",
     "output_type": "stream",
     "text": [
      "              precision    recall  f1-score   support\n",
      "\n",
      "           0       0.77      0.97      0.86      5546\n",
      "           1       0.48      0.09      0.15      1781\n",
      "\n",
      "    accuracy                           0.76      7327\n",
      "   macro avg       0.63      0.53      0.50      7327\n",
      "weighted avg       0.70      0.76      0.69      7327\n",
      "\n",
      "Accurancy:  0.7554251398935444\n"
     ]
    },
    {
     "data": {
      "image/png": "[encoded data removed]",
      "text/plain": [
       "<Figure size 432x288 with 2 Axes>"
      ]
     },
     "metadata": {
      "needs_background": "light"
     },
     "output_type": "display_data"
    }
   ],
   "source": [
    "# Make Predictions\n",
    "train_preds = baseline_model.predict(X_train)\n",
    "test_preds = baseline_model.predict(X_test)\n",
    "\n",
    "# Evaluation Predictions\n",
    "evaluation(y_train, train_preds, title = 'Training')\n",
    "evaluation(y_test, test_preds, title='Testing')"
   ]
  },
  {
   "cell_type": "markdown",
   "metadata": {},
   "source": [
    "These models aren't doing too poorly, but...\n",
    "\n",
    "# What did we do wrong?"
   ]
  },
  {
   "cell_type": "markdown",
   "metadata": {},
   "source": [
    "If we take a look at ```X_train```..."
   ]
  },
  {
   "cell_type": "code",
   "execution_count": 14,
   "metadata": {
    "ExecuteTime": {
     "end_time": "2020-06-26T23:51:23.781708Z",
     "start_time": "2020-06-26T23:51:23.774206Z"
    }
   },
   "outputs": [
    {
     "data": {
      "text/html": [
       "<div>\n",
       "<style scoped>\n",
       "    .dataframe tbody tr th:only-of-type {\n",
       "        vertical-align: middle;\n",
       "    }\n",
       "\n",
       "    .dataframe tbody tr th {\n",
       "        vertical-align: top;\n",
       "    }\n",
       "\n",
       "    .dataframe thead th {\n",
       "        text-align: right;\n",
       "    }\n",
       "</style>\n",
       "<table border=\"1\" class=\"dataframe\">\n",
       "  <thead>\n",
       "    <tr style=\"text-align: right;\">\n",
       "      <th></th>\n",
       "      <th>age</th>\n",
       "      <th>capital_gain</th>\n",
       "      <th>capital_loss</th>\n",
       "      <th>hours_per_week</th>\n",
       "    </tr>\n",
       "  </thead>\n",
       "  <tbody>\n",
       "    <tr>\n",
       "      <th>10626</th>\n",
       "      <td>0</td>\n",
       "      <td>0</td>\n",
       "      <td>1</td>\n",
       "      <td>-0.035176</td>\n",
       "    </tr>\n",
       "    <tr>\n",
       "      <th>5205</th>\n",
       "      <td>0</td>\n",
       "      <td>0</td>\n",
       "      <td>0</td>\n",
       "      <td>-1.663803</td>\n",
       "    </tr>\n",
       "  </tbody>\n",
       "</table>\n",
       "</div>"
      ],
      "text/plain": [
       "       age  capital_gain  capital_loss  hours_per_week\n",
       "10626    0             0             1       -0.035176\n",
       "5205     0             0             0       -1.663803"
      ]
     },
     "execution_count": 14,
     "metadata": {},
     "output_type": "execute_result"
    }
   ],
   "source": [
    "X_train.head(2)"
   ]
  },
  {
   "cell_type": "markdown",
   "metadata": {},
   "source": [
    "...and ```X_test```."
   ]
  },
  {
   "cell_type": "code",
   "execution_count": 15,
   "metadata": {
    "ExecuteTime": {
     "end_time": "2020-06-26T23:51:23.791525Z",
     "start_time": "2020-06-26T23:51:23.784777Z"
    }
   },
   "outputs": [
    {
     "data": {
      "text/html": [
       "<div>\n",
       "<style scoped>\n",
       "    .dataframe tbody tr th:only-of-type {\n",
       "        vertical-align: middle;\n",
       "    }\n",
       "\n",
       "    .dataframe tbody tr th {\n",
       "        vertical-align: top;\n",
       "    }\n",
       "\n",
       "    .dataframe thead th {\n",
       "        text-align: right;\n",
       "    }\n",
       "</style>\n",
       "<table border=\"1\" class=\"dataframe\">\n",
       "  <thead>\n",
       "    <tr style=\"text-align: right;\">\n",
       "      <th></th>\n",
       "      <th>age</th>\n",
       "      <th>capital_gain</th>\n",
       "      <th>capital_loss</th>\n",
       "      <th>hours_per_week</th>\n",
       "    </tr>\n",
       "  </thead>\n",
       "  <tbody>\n",
       "    <tr>\n",
       "      <th>28190</th>\n",
       "      <td>43</td>\n",
       "      <td>0</td>\n",
       "      <td>0</td>\n",
       "      <td>40</td>\n",
       "    </tr>\n",
       "    <tr>\n",
       "      <th>25450</th>\n",
       "      <td>44</td>\n",
       "      <td>0</td>\n",
       "      <td>0</td>\n",
       "      <td>60</td>\n",
       "    </tr>\n",
       "  </tbody>\n",
       "</table>\n",
       "</div>"
      ],
      "text/plain": [
       "       age  capital_gain  capital_loss  hours_per_week\n",
       "28190   43             0             0              40\n",
       "25450   44             0             0              60"
      ]
     },
     "execution_count": 15,
     "metadata": {},
     "output_type": "execute_result"
    }
   ],
   "source": [
    "X_test.head(2)"
   ]
  },
  {
   "cell_type": "markdown",
   "metadata": {},
   "source": [
    "*We did not transform the testing data!*"
   ]
  },
  {
   "cell_type": "markdown",
   "metadata": {},
   "source": [
    "What are our ways of fixing this?\n",
    "\n",
    "We could do something like this...\n",
    "\n",
    "![](../images/code_block.png)\n",
    "\n",
    "A level up would be to compile this code into a function..."
   ]
  },
  {
   "cell_type": "code",
   "execution_count": 16,
   "metadata": {
    "ExecuteTime": {
     "end_time": "2020-06-26T23:51:23.797028Z",
     "start_time": "2020-06-26T23:51:23.793629Z"
    }
   },
   "outputs": [],
   "source": [
    "def clean(df):\n",
    "    X = df.copy()\n",
    "    X.hours_per_week = hours_scaler.transform(X.hours_per_week.values.reshape(-1,1))\n",
    "    X.age = X.age.apply(bin_middle_age)\n",
    "    X.capital_gain = X.capital_gain.apply(bin_capital)\n",
    "    X.capital_loss = X.capital_loss.apply(bin_capital)\n",
    "    \n",
    "    return X"
   ]
  },
  {
   "cell_type": "markdown",
   "metadata": {},
   "source": [
    "But what if we wanted to apply these steps while using cross validation?\n",
    "\n",
    "We can't! In order to use cross validation, our transformers have to be refit on new data. This function only transforms data. \n",
    "\n",
    "We need something that can differentiate between training and testing data, and use fit or transform appropriately."
   ]
  },
  {
   "cell_type": "markdown",
   "metadata": {
    "ExecuteTime": {
     "end_time": "2020-06-26T16:46:36.401881Z",
     "start_time": "2020-06-26T16:46:36.390510Z"
    }
   },
   "source": [
    "# Introducing ```sklearn.pipeline.Pipeline()``` object.\n",
    "\n",
    "![](https://raw.githubusercontent.com/learn-co-students/pickles-and-pipelines-seattle-ds-012720/4817cebf95395b6f10ad882bf9daac528a0650dc/visuals/transformer.gif)\n",
    "\n",
    "### Definition of a pipeline\n",
    "From the docs:\n",
    ">The purpose of the pipeline is to assemble several steps that can be cross-validated together while setting different parameters. [The Pipeline object] sequentially applies a list of transforms and a final estimator. Intermediate steps of the pipeline must be ‘transforms’ (i.e. transformers), that is, they must implement fit and transform methods.\n",
    "\n",
    "### Broad generalization of a pipeline\n",
    "The key here is we need to specify a specific column, pass it's \"transformer\" (i.e. SimpleImputer, OneHotEncoder, StandardScaler), and determine if the transformation belongs in it's own new column or if it's more appropriate for the transformed column to overwrite the input column.\n",
    "\n",
    "Benefits of the Pipeline\n",
    "From the User Guide:\n",
    "\n",
    ">- **Convenience and encapsulation**\n",
    "    - You only have to call fit and predict once on your data to fit a whole sequence of estimators.\n",
    "- **Joint parameter selection**\n",
    "     - You can grid search over parameters of all estimators in the pipeline at once.\n",
    "- **Safety**\n",
    "    - Pipelines help avoid leaking statistics from your test data into the trained model in cross-validation, by ensuring that the same samples are used to train the transformers and predictors.\n",
    "\n",
    "Here, we'll create a few Pipeline objects to do the following:\n",
    "- Scale ```hours_per_week```.\n",
    "- Bin Age Column\n",
    "- Bin Capital Gain & Capital Loss Columns\n",
    "\n",
    "### Create custom transformer for binning data.\n",
    "In this case, we can't rely on importing a traditional transformer (i.e. StandardScaler, OneHotEncoder, etc.).\n",
    "\n",
    "Instead, we'll need to create our own custom transformer. We will do this by creating a new class that implements both .fit() and .transform() methods."
   ]
  },
  {
   "cell_type": "code",
   "execution_count": 17,
   "metadata": {
    "ExecuteTime": {
     "end_time": "2020-06-26T23:51:23.806131Z",
     "start_time": "2020-06-26T23:51:23.798887Z"
    }
   },
   "outputs": [],
   "source": [
    "class _BinAge(BaseEstimator):\n",
    "    def __init__(self):\n",
    "        pass\n",
    "    \n",
    "    def fit(self, X, y=None):\n",
    "        return self\n",
    "    \n",
    "    def _bin_data(self, x):\n",
    "        if x < 45 or x > 64:\n",
    "            return 0 \n",
    "        else: \n",
    "            return 1\n",
    "    \n",
    "    def transform(self, X):\n",
    "        if type(X) == dict:\n",
    "            X = pd.DataFrame([X], index = len([X]))\n",
    "        data = X.copy()\n",
    "        data['age'] = data['age'].apply(self._bin_data)\n",
    "        \n",
    "        return data \n",
    "\n",
    "class _BinCapital(BaseEstimator):\n",
    "    def __init__(self, col_name):\n",
    "        self.col_name = col_name\n",
    "    \n",
    "    def fit(self, X, y=None):\n",
    "        return self\n",
    "    \n",
    "    def _bin_data(self, x):\n",
    "        if x > 0:\n",
    "            return 1\n",
    "        else:\n",
    "            return 0\n",
    "    \n",
    "    def transform(self, X):\n",
    "        if type(X) == dict:\n",
    "            X = pd.DataFrame([X], index = len([X]))\n",
    "        data = X.copy()\n",
    "        data[self.col_name] = data[self.col_name].apply(self._bin_data)\n",
    "        \n",
    "        return data      "
   ]
  },
  {
   "cell_type": "markdown",
   "metadata": {},
   "source": [
    "## Create first pipeline"
   ]
  },
  {
   "cell_type": "code",
   "execution_count": 18,
   "metadata": {
    "ExecuteTime": {
     "end_time": "2020-06-26T23:51:23.891284Z",
     "start_time": "2020-06-26T23:51:23.888142Z"
    }
   },
   "outputs": [],
   "source": [
    "binning_steps = [\n",
    "    ('bin_capital_gain', _BinCapital(col_name = 'capital_gain')),\n",
    "    ('bin_capital_loss', _BinCapital(col_name = 'capital_loss')),\n",
    "    ('bin_age', _BinAge())]\n",
    "\n",
    "data_binner = Pipeline(steps=binning_steps)"
   ]
  },
  {
   "cell_type": "code",
   "execution_count": 19,
   "metadata": {
    "ExecuteTime": {
     "end_time": "2020-06-26T23:51:23.896879Z",
     "start_time": "2020-06-26T23:51:23.894073Z"
    }
   },
   "outputs": [],
   "source": [
    "standard_scaler = ColumnTransformer(transformers=[\n",
    "    (\"s_scale\", StandardScaler(), ['hours_per_week'])\n",
    "],\n",
    "                      remainder=\"passthrough\")"
   ]
  },
  {
   "cell_type": "code",
   "execution_count": 20,
   "metadata": {
    "ExecuteTime": {
     "end_time": "2020-06-26T23:51:23.907166Z",
     "start_time": "2020-06-26T23:51:23.899708Z"
    }
   },
   "outputs": [],
   "source": [
    "X_train, X_test, y_train, y_test = first_split()"
   ]
  },
  {
   "cell_type": "code",
   "execution_count": 21,
   "metadata": {
    "ExecuteTime": {
     "end_time": "2020-06-26T23:51:23.939619Z",
     "start_time": "2020-06-26T23:51:23.908996Z"
    }
   },
   "outputs": [
    {
     "data": {
      "text/plain": [
       "Pipeline(memory=None,\n",
       "         steps=[('binner',\n",
       "                 Pipeline(memory=None,\n",
       "                          steps=[('bin_capital_gain',\n",
       "                                  _BinCapital(col_name='capital_gain')),\n",
       "                                 ('bin_capital_loss',\n",
       "                                  _BinCapital(col_name='capital_loss')),\n",
       "                                 ('bin_age', _BinAge())],\n",
       "                          verbose=False)),\n",
       "                ('standard_scaler',\n",
       "                 ColumnTransformer(n_jobs=None, remainder='passthrough',\n",
       "                                   sparse_threshold=0.3,\n",
       "                                   transformer_weights=None,\n",
       "                                   transformers=[('s_scale',\n",
       "                                                  StandardScaler(copy=True,\n",
       "                                                                 with_mean=True,\n",
       "                                                                 with_std=True),\n",
       "                                                  ['hours_per_week'])],\n",
       "                                   verbose=False))],\n",
       "         verbose=False)"
      ]
     },
     "execution_count": 21,
     "metadata": {},
     "output_type": "execute_result"
    }
   ],
   "source": [
    "first_pipeline = Pipeline(steps= [('binner', data_binner),('standard_scaler', standard_scaler)])\n",
    "\n",
    "first_pipeline.fit(X_train)"
   ]
  },
  {
   "cell_type": "code",
   "execution_count": 22,
   "metadata": {
    "ExecuteTime": {
     "end_time": "2020-06-26T23:51:23.969270Z",
     "start_time": "2020-06-26T23:51:23.942206Z"
    }
   },
   "outputs": [
    {
     "data": {
      "text/html": [
       "<div>\n",
       "<style scoped>\n",
       "    .dataframe tbody tr th:only-of-type {\n",
       "        vertical-align: middle;\n",
       "    }\n",
       "\n",
       "    .dataframe tbody tr th {\n",
       "        vertical-align: top;\n",
       "    }\n",
       "\n",
       "    .dataframe thead th {\n",
       "        text-align: right;\n",
       "    }\n",
       "</style>\n",
       "<table border=\"1\" class=\"dataframe\">\n",
       "  <thead>\n",
       "    <tr style=\"text-align: right;\">\n",
       "      <th></th>\n",
       "      <th>age</th>\n",
       "      <th>capital_gain</th>\n",
       "      <th>capital_loss</th>\n",
       "      <th>hours_per_week</th>\n",
       "    </tr>\n",
       "  </thead>\n",
       "  <tbody>\n",
       "    <tr>\n",
       "      <th>10626</th>\n",
       "      <td>0</td>\n",
       "      <td>0</td>\n",
       "      <td>1</td>\n",
       "      <td>-0.035176</td>\n",
       "    </tr>\n",
       "    <tr>\n",
       "      <th>5205</th>\n",
       "      <td>0</td>\n",
       "      <td>0</td>\n",
       "      <td>0</td>\n",
       "      <td>-1.663803</td>\n",
       "    </tr>\n",
       "  </tbody>\n",
       "</table>\n",
       "</div>"
      ],
      "text/plain": [
       "       age  capital_gain  capital_loss  hours_per_week\n",
       "10626    0             0             1       -0.035176\n",
       "5205     0             0             0       -1.663803"
      ]
     },
     "execution_count": 22,
     "metadata": {},
     "output_type": "execute_result"
    }
   ],
   "source": [
    "# Repeat our steps from above to prove\n",
    "# the results are the same\n",
    "\n",
    "hours_scaler = StandardScaler()\n",
    "X_train_copy = X_train.copy()\n",
    "X_train_copy.hours_per_week = hours_scaler.fit_transform(X_train_copy['hours_per_week'].values.reshape(-1,1))\n",
    "X_train_copy.age = X_train_copy.age.apply(bin_middle_age)\n",
    "X_train_copy.capital_gain = X_train_copy.capital_gain.apply(bin_capital)\n",
    "X_train_copy.capital_loss = X_train_copy.capital_loss.apply(bin_capital)\n",
    "\n",
    "X_train_copy.head(2)"
   ]
  },
  {
   "cell_type": "code",
   "execution_count": 23,
   "metadata": {
    "ExecuteTime": {
     "end_time": "2020-06-26T23:51:23.996583Z",
     "start_time": "2020-06-26T23:51:23.971501Z"
    }
   },
   "outputs": [
    {
     "data": {
      "text/plain": [
       "array([[-0.03517649,  0.        ,  0.        ,  1.        ],\n",
       "       [-1.66380276,  0.        ,  0.        ,  0.        ],\n",
       "       [ 4.76927101,  0.        ,  0.        ,  0.        ],\n",
       "       ...,\n",
       "       [ 0.77913665,  1.        ,  0.        ,  0.        ],\n",
       "       [ 0.61627402,  0.        ,  0.        ,  0.        ],\n",
       "       [-0.03517649,  0.        ,  0.        ,  0.        ]])"
      ]
     },
     "execution_count": 23,
     "metadata": {},
     "output_type": "execute_result"
    }
   ],
   "source": [
    "pipeline_output = first_pipeline.transform(X_train)\n",
    "pipeline_output"
   ]
  },
  {
   "cell_type": "markdown",
   "metadata": {},
   "source": [
    "Value wise, the results with a pipeline are mostly the same. Sklearn transformer objects convert integers to floats, which for machine learning is typically ideal. \n",
    "\n",
    "A difference between these two that is certainly not trivial is the loss of column names.\n",
    "\n",
    "Sklearn transformers convert dataframes to lists. \n",
    ">To pass dataframe objects between transformers in a pipeline, more customization is required. "
   ]
  },
  {
   "cell_type": "markdown",
   "metadata": {},
   "source": [
    "**Benefit of pipelines**\n",
    "\n",
    "If we wanted to experiment with different scales of our data, we can easily swap out scalers."
   ]
  },
  {
   "cell_type": "code",
   "execution_count": 24,
   "metadata": {
    "ExecuteTime": {
     "end_time": "2020-06-26T23:51:24.087900Z",
     "start_time": "2020-06-26T23:51:24.083445Z"
    }
   },
   "outputs": [],
   "source": [
    "standard_scaler = ColumnTransformer(transformers=[\n",
    "    (\"s_scale\", StandardScaler(), ['hours_per_week'])\n",
    "],\n",
    "                      remainder=\"passthrough\")\n",
    "\n",
    "min_max_scaler = ColumnTransformer(transformers=[\n",
    "    ('min_max', MinMaxScaler(), ['hours_per_week'])\n",
    "], remainder='passthrough')\n",
    "\n",
    "ss_prep = Pipeline([\n",
    "    ('binner', data_binner),\n",
    "    ('s_scaler', standard_scaler)\n",
    "])\n",
    "\n",
    "mm_prep = Pipeline([\n",
    "    ('binner', data_binner),\n",
    "    ('m_scaler', min_max_scaler)\n",
    "])"
   ]
  },
  {
   "cell_type": "code",
   "execution_count": 25,
   "metadata": {
    "ExecuteTime": {
     "end_time": "2020-06-26T23:51:24.097489Z",
     "start_time": "2020-06-26T23:51:24.090767Z"
    }
   },
   "outputs": [],
   "source": [
    "X_train, X_test, y_train, y_test = first_split()"
   ]
  },
  {
   "cell_type": "code",
   "execution_count": 26,
   "metadata": {
    "ExecuteTime": {
     "end_time": "2020-06-26T23:51:24.126295Z",
     "start_time": "2020-06-26T23:51:24.099711Z"
    }
   },
   "outputs": [
    {
     "data": {
      "text/plain": [
       "array([[-0.03517649,  0.        ,  0.        ,  1.        ],\n",
       "       [-1.66380276,  0.        ,  0.        ,  0.        ],\n",
       "       [ 4.76927101,  0.        ,  0.        ,  0.        ],\n",
       "       ...,\n",
       "       [ 0.77913665,  1.        ,  0.        ,  0.        ],\n",
       "       [ 0.61627402,  0.        ,  0.        ,  0.        ],\n",
       "       [-0.03517649,  0.        ,  0.        ,  0.        ]])"
      ]
     },
     "execution_count": 26,
     "metadata": {},
     "output_type": "execute_result"
    }
   ],
   "source": [
    "ss_prep.fit_transform(X_train)"
   ]
  },
  {
   "cell_type": "code",
   "execution_count": 27,
   "metadata": {
    "ExecuteTime": {
     "end_time": "2020-06-26T23:51:24.153881Z",
     "start_time": "2020-06-26T23:51:24.128041Z"
    }
   },
   "outputs": [
    {
     "data": {
      "text/plain": [
       "array([[0.39795918, 0.        , 0.        , 1.        ],\n",
       "       [0.19387755, 0.        , 0.        , 0.        ],\n",
       "       [1.        , 0.        , 0.        , 0.        ],\n",
       "       ...,\n",
       "       [0.5       , 1.        , 0.        , 0.        ],\n",
       "       [0.47959184, 0.        , 0.        , 0.        ],\n",
       "       [0.39795918, 0.        , 0.        , 0.        ]])"
      ]
     },
     "execution_count": 27,
     "metadata": {},
     "output_type": "execute_result"
    }
   ],
   "source": [
    "mm_prep.fit_transform(X_train)"
   ]
  },
  {
   "cell_type": "markdown",
   "metadata": {},
   "source": [
    "## Add a model to our pipeline"
   ]
  },
  {
   "cell_type": "code",
   "execution_count": 28,
   "metadata": {
    "ExecuteTime": {
     "end_time": "2020-06-26T23:51:24.188424Z",
     "start_time": "2020-06-26T23:51:24.185348Z"
    }
   },
   "outputs": [],
   "source": [
    "model = DecisionTreeClassifier(random_state=2020)\n",
    "\n",
    "first_full_pipeline = Pipeline([('preprocessing', ss_prep),\n",
    "                                ('model', model)])"
   ]
  },
  {
   "cell_type": "code",
   "execution_count": 29,
   "metadata": {
    "ExecuteTime": {
     "end_time": "2020-06-26T23:51:24.413634Z",
     "start_time": "2020-06-26T23:51:24.190931Z"
    }
   },
   "outputs": [
    {
     "name": "stdout",
     "output_type": "stream",
     "text": [
      "              precision    recall  f1-score   support\n",
      "\n",
      "           0       0.80      0.97      0.88     16681\n",
      "           1       0.72      0.24      0.36      5297\n",
      "\n",
      "    accuracy                           0.79     21978\n",
      "   macro avg       0.76      0.61      0.62     21978\n",
      "weighted avg       0.78      0.79      0.75     21978\n",
      "\n",
      "Accurancy:  0.7945672945672946\n"
     ]
    },
    {
     "data": {
      "image/png": "[encoded data removed]",
      "text/plain": [
       "<Figure size 432x288 with 2 Axes>"
      ]
     },
     "metadata": {
      "needs_background": "light"
     },
     "output_type": "display_data"
    }
   ],
   "source": [
    "first_full_pipeline.fit(X_train, y_train)\n",
    "\n",
    "train_preds = first_full_pipeline.predict(X_train)\n",
    "\n",
    "evaluation(y_train, train_preds)"
   ]
  },
  {
   "cell_type": "markdown",
   "metadata": {},
   "source": [
    "**Use cross validation!**"
   ]
  },
  {
   "cell_type": "code",
   "execution_count": 30,
   "metadata": {
    "ExecuteTime": {
     "end_time": "2020-06-26T23:51:25.912647Z",
     "start_time": "2020-06-26T23:51:24.416303Z"
    }
   },
   "outputs": [
    {
     "data": {
      "text/markdown": [
       "### First Pipeline\n",
       "\n",
       "|        \t|    \t|\n",
       "|---------------\t|----\t|\n",
       "| Minimum Score \t| 0.7834840470909401 \t|\n",
       "| Average Score \t| 0.7867258147073877 \t|\n",
       "| Maximum Score \t| 0.7920150145026446 \t|"
      ],
      "text/plain": [
       "<IPython.core.display.Markdown object>"
      ]
     },
     "metadata": {},
     "output_type": "display_data"
    }
   ],
   "source": [
    "X = df.drop(dropped_columns, axis = 1)\n",
    "y = df.income\n",
    "\n",
    "cv = KFold(n_splits=5, shuffle=True, random_state=2020)\n",
    "\n",
    "scores = cross_val_score(first_full_pipeline, X[numerical_columns], y, cv=cv, n_jobs=-1)\n",
    "\n",
    "model_report('First Pipeline', scores)"
   ]
  },
  {
   "cell_type": "markdown",
   "metadata": {},
   "source": [
    "## Ok so what if we want to add categorical columns to our Pipeline?\n",
    "\n",
    ">For this dataset, this is where it get's a bit tricky."
   ]
  },
  {
   "cell_type": "code",
   "execution_count": 31,
   "metadata": {
    "ExecuteTime": {
     "end_time": "2020-06-26T23:51:25.921128Z",
     "start_time": "2020-06-26T23:51:25.916302Z"
    }
   },
   "outputs": [],
   "source": [
    "binner = Pipeline(steps=[\n",
    "('bin_capital_gain', _BinCapital(col_name = 'capital_gain')),\n",
    "     ('bin_capital_loss', _BinCapital(col_name = 'capital_loss'))\n",
    "])\n",
    "\n",
    "encoder = ColumnTransformer(transformers=[\n",
    "    ('hot_encode', OneHotEncoder(drop='first'), categorical_columns)\n",
    "], remainder='passthrough')\n",
    "\n",
    "\n",
    "data_prep = Pipeline([('bin', binner),\n",
    "                      ('encode', encoder)])\n",
    "\n",
    "model = DecisionTreeClassifier()\n",
    "\n",
    "pipeline = Pipeline(steps=[('prep', data_prep), ('model', model)])"
   ]
  },
  {
   "cell_type": "code",
   "execution_count": 32,
   "metadata": {
    "ExecuteTime": {
     "end_time": "2020-06-26T23:51:27.668156Z",
     "start_time": "2020-06-26T23:51:25.923234Z"
    }
   },
   "outputs": [
    {
     "name": "stdout",
     "output_type": "stream",
     "text": [
      "Found unknown categories [' Holand-Netherlands'] in column 6 during transform\n"
     ]
    }
   ],
   "source": [
    "try:\n",
    "    scores = cross_val_score(pipeline, X, y, cv=cv, n_jobs=-1)\n",
    "    model_report('Decision Tree', scores)\n",
    "except:\n",
    "    print(\"Found unknown categories [' Holand-Netherlands'] in column 6 during transform\")\n"
   ]
  },
  {
   "cell_type": "markdown",
   "metadata": {},
   "source": [
    "### What happened?\n",
    "\n",
    "If we take a look at our full data:"
   ]
  },
  {
   "cell_type": "code",
   "execution_count": 33,
   "metadata": {
    "ExecuteTime": {
     "end_time": "2020-06-26T23:51:27.684967Z",
     "start_time": "2020-06-26T23:51:27.670486Z"
    }
   },
   "outputs": [
    {
     "data": {
      "text/html": [
       "<div>\n",
       "<style scoped>\n",
       "    .dataframe tbody tr th:only-of-type {\n",
       "        vertical-align: middle;\n",
       "    }\n",
       "\n",
       "    .dataframe tbody tr th {\n",
       "        vertical-align: top;\n",
       "    }\n",
       "\n",
       "    .dataframe thead th {\n",
       "        text-align: right;\n",
       "    }\n",
       "</style>\n",
       "<table border=\"1\" class=\"dataframe\">\n",
       "  <thead>\n",
       "    <tr style=\"text-align: right;\">\n",
       "      <th></th>\n",
       "      <th>age</th>\n",
       "      <th>workclass</th>\n",
       "      <th>fnlwgt</th>\n",
       "      <th>education</th>\n",
       "      <th>education_num</th>\n",
       "      <th>marital_status</th>\n",
       "      <th>occupation</th>\n",
       "      <th>relationship</th>\n",
       "      <th>race</th>\n",
       "      <th>sex</th>\n",
       "      <th>capital_gain</th>\n",
       "      <th>capital_loss</th>\n",
       "      <th>hours_per_week</th>\n",
       "      <th>native_country</th>\n",
       "      <th>income</th>\n",
       "    </tr>\n",
       "  </thead>\n",
       "  <tbody>\n",
       "    <tr>\n",
       "      <th>17657</th>\n",
       "      <td>32</td>\n",
       "      <td>Private</td>\n",
       "      <td>27882</td>\n",
       "      <td>Some-college</td>\n",
       "      <td>10</td>\n",
       "      <td>Never-married</td>\n",
       "      <td>Machine-op-inspct</td>\n",
       "      <td>Other-relative</td>\n",
       "      <td>White</td>\n",
       "      <td>Female</td>\n",
       "      <td>0</td>\n",
       "      <td>2205</td>\n",
       "      <td>40</td>\n",
       "      <td>Holand-Netherlands</td>\n",
       "      <td>0</td>\n",
       "    </tr>\n",
       "  </tbody>\n",
       "</table>\n",
       "</div>"
      ],
      "text/plain": [
       "       age workclass  fnlwgt      education education_num  marital_status  \\\n",
       "17657   32   Private   27882   Some-college            10   Never-married   \n",
       "\n",
       "               occupation     relationship    race      sex  capital_gain  \\\n",
       "17657   Machine-op-inspct   Other-relative   White   Female             0   \n",
       "\n",
       "       capital_loss  hours_per_week       native_country  income  \n",
       "17657          2205              40   Holand-Netherlands       0  "
      ]
     },
     "execution_count": 33,
     "metadata": {},
     "output_type": "execute_result"
    }
   ],
   "source": [
    "df[df.native_country == ' Holand-Netherlands']"
   ]
  },
  {
   "cell_type": "markdown",
   "metadata": {},
   "source": [
    "There is a single row with Holand-Netherlands as the native_country\n",
    "\n",
    "During cross validation, we are creating training splits that do not contain this observation, and the OneHotEncoder is not factoring it into the feature mappings. \n",
    "\n",
    "Certainly, we could drop this row. And in this case if would probably make the most sense, but what if we had 100-300 observations for 'Holand-Netherlands'? In a large dataset, we could run into the same problem.\n",
    "\n",
    "In these instances, it makes the most sense to leave the OneHotEncoder out the pipeline, and only add it back once a final model has been selected."
   ]
  },
  {
   "cell_type": "code",
   "execution_count": 34,
   "metadata": {
    "ExecuteTime": {
     "end_time": "2020-06-26T23:51:27.783666Z",
     "start_time": "2020-06-26T23:51:27.688808Z"
    }
   },
   "outputs": [],
   "source": [
    "categorical_encoder = OneHotEncoder(drop='first')\n",
    "\n",
    "hot_encoded = categorical_encoder.fit_transform(X[categorical_columns])\n",
    "\n",
    "hot_encoded = pd.DataFrame(hot_encoded.todense(), \n",
    "                           columns=categorical_encoder.get_feature_names(),\n",
    "                           index=X.index)\n",
    "\n",
    "X_encoded = pd.concat([X.drop(categorical_columns, axis = 1), hot_encoded], axis = 1)"
   ]
  },
  {
   "cell_type": "code",
   "execution_count": 35,
   "metadata": {
    "ExecuteTime": {
     "end_time": "2020-06-26T23:51:29.376036Z",
     "start_time": "2020-06-26T23:51:27.786435Z"
    }
   },
   "outputs": [
    {
     "data": {
      "text/markdown": [
       "### Decision Tree - With Categoricals\n",
       "\n",
       "|        \t|    \t|\n",
       "|---------------\t|----\t|\n",
       "| Minimum Score \t| 0.7845077631803447 \t|\n",
       "| Average Score \t| 0.7922538815901723 \t|\n",
       "| Maximum Score \t| 0.7998635045214127 \t|"
      ],
      "text/plain": [
       "<IPython.core.display.Markdown object>"
      ]
     },
     "metadata": {},
     "output_type": "display_data"
    }
   ],
   "source": [
    "model = DecisionTreeClassifier()\n",
    "\n",
    "pipeline = Pipeline(steps=[('bin', binner), ('model', model)])\n",
    "\n",
    "scores = cross_val_score(pipeline, X_encoded, y, cv=cv, n_jobs=-1)\n",
    "\n",
    "model_report('Decision Tree - With Categoricals', scores)"
   ]
  },
  {
   "cell_type": "code",
   "execution_count": 36,
   "metadata": {
    "ExecuteTime": {
     "end_time": "2020-06-26T23:51:34.295789Z",
     "start_time": "2020-06-26T23:51:29.379202Z"
    }
   },
   "outputs": [
    {
     "data": {
      "text/markdown": [
       "### Random Forest\n",
       "\n",
       "|        \t|    \t|\n",
       "|---------------\t|----\t|\n",
       "| Minimum Score \t| 0.8182903941306944 \t|\n",
       "| Average Score \t| 0.8253540351475858 \t|\n",
       "| Maximum Score \t| 0.8314280839447193 \t|"
      ],
      "text/plain": [
       "<IPython.core.display.Markdown object>"
      ]
     },
     "metadata": {},
     "output_type": "display_data"
    }
   ],
   "source": [
    "model = RandomForestClassifier()\n",
    "\n",
    "pipeline = Pipeline(steps=[('prep',binner), ('model', model)])\n",
    "\n",
    "scores = cross_val_score(pipeline, X_encoded, y, cv=cv, n_jobs=-1)\n",
    "\n",
    "model_report('Random Forest', scores)"
   ]
  },
  {
   "cell_type": "code",
   "execution_count": 37,
   "metadata": {
    "ExecuteTime": {
     "end_time": "2020-06-26T23:51:37.979994Z",
     "start_time": "2020-06-26T23:51:34.297961Z"
    }
   },
   "outputs": [
    {
     "name": "stdout",
     "output_type": "stream",
     "text": [
      "              precision    recall  f1-score   support\n",
      "\n",
      "           0       0.98      0.99      0.98     16685\n",
      "           1       0.96      0.94      0.95      5293\n",
      "\n",
      "    accuracy                           0.98     21978\n",
      "   macro avg       0.97      0.96      0.97     21978\n",
      "weighted avg       0.98      0.98      0.98     21978\n",
      "\n",
      "Accurancy:  0.975975975975976\n"
     ]
    },
    {
     "data": {
      "image/png": "[encoded data removed]",
      "text/plain": [
       "<Figure size 432x288 with 2 Axes>"
      ]
     },
     "metadata": {
      "needs_background": "light"
     },
     "output_type": "display_data"
    },
    {
     "name": "stdout",
     "output_type": "stream",
     "text": [
      "              precision    recall  f1-score   support\n",
      "\n",
      "           0       0.86      0.90      0.88      5542\n",
      "           1       0.65      0.56      0.60      1785\n",
      "\n",
      "    accuracy                           0.82      7327\n",
      "   macro avg       0.76      0.73      0.74      7327\n",
      "weighted avg       0.81      0.82      0.82      7327\n",
      "\n",
      "Accurancy:  0.820936263136345\n"
     ]
    },
    {
     "data": {
      "image/png": "[encoded data removed]",
      "text/plain": [
       "<Figure size 432x288 with 2 Axes>"
      ]
     },
     "metadata": {
      "needs_background": "light"
     },
     "output_type": "display_data"
    }
   ],
   "source": [
    "X_train, X_test, y_train, y_test = train_test_split(X_encoded, y)\n",
    "pipeline.fit(X_train, y_train)\n",
    "train_preds = pipeline.predict(X_train)\n",
    "test_preds = pipeline.predict(X_test)\n",
    "evaluation(y_train, train_preds, title = 'Training')\n",
    "evaluation(y_test, test_preds, title = 'Testing')"
   ]
  },
  {
   "cell_type": "markdown",
   "metadata": {},
   "source": [
    "# Grid Search with Pipelines"
   ]
  },
  {
   "cell_type": "code",
   "execution_count": 38,
   "metadata": {
    "ExecuteTime": {
     "end_time": "2020-06-26T23:51:37.986759Z",
     "start_time": "2020-06-26T23:51:37.982375Z"
    }
   },
   "outputs": [
    {
     "data": {
      "text/plain": [
       "dict_keys(['memory', 'steps', 'verbose', 'prep', 'model', 'prep__memory', 'prep__steps', 'prep__verbose', 'prep__bin_capital_gain', 'prep__bin_capital_loss', 'prep__bin_capital_gain__col_name', 'prep__bin_capital_loss__col_name', 'model__bootstrap', 'model__ccp_alpha', 'model__class_weight', 'model__criterion', 'model__max_depth', 'model__max_features', 'model__max_leaf_nodes', 'model__max_samples', 'model__min_impurity_decrease', 'model__min_impurity_split', 'model__min_samples_leaf', 'model__min_samples_split', 'model__min_weight_fraction_leaf', 'model__n_estimators', 'model__n_jobs', 'model__oob_score', 'model__random_state', 'model__verbose', 'model__warm_start'])"
      ]
     },
     "execution_count": 38,
     "metadata": {},
     "output_type": "execute_result"
    }
   ],
   "source": [
    "pipeline.get_params().keys()"
   ]
  },
  {
   "cell_type": "code",
   "execution_count": 39,
   "metadata": {
    "ExecuteTime": {
     "end_time": "2020-06-26T23:52:39.476157Z",
     "start_time": "2020-06-26T23:51:37.988688Z"
    }
   },
   "outputs": [
    {
     "name": "stdout",
     "output_type": "stream",
     "text": [
      "              precision    recall  f1-score   support\n",
      "\n",
      "           0       0.86      0.95      0.90     22227\n",
      "           1       0.77      0.52      0.62      7078\n",
      "\n",
      "    accuracy                           0.85     29305\n",
      "   macro avg       0.81      0.73      0.76     29305\n",
      "weighted avg       0.84      0.85      0.83     29305\n",
      "\n",
      "Accurancy:  0.8457601091963829\n"
     ]
    },
    {
     "data": {
      "image/png": "[encoded data removed]",
      "text/plain": [
       "<Figure size 432x288 with 2 Axes>"
      ]
     },
     "metadata": {
      "needs_background": "light"
     },
     "output_type": "display_data"
    }
   ],
   "source": [
    "hyperparameters = {'model__max_depth': list(range(2,18,2)),\n",
    "                    'model__max_leaf_nodes': [60, 80, 100]\n",
    "                    \n",
    "                  }\n",
    "clf = GridSearchCV(pipeline, hyperparameters, cv=3)\n",
    " \n",
    "\n",
    "clf.fit(X_encoded, y)\n",
    "\n",
    "preds = clf.predict(X_encoded)\n",
    "evaluation(y, preds)"
   ]
  },
  {
   "cell_type": "code",
   "execution_count": 40,
   "metadata": {
    "ExecuteTime": {
     "end_time": "2020-06-26T23:52:39.480967Z",
     "start_time": "2020-06-26T23:52:39.478567Z"
    }
   },
   "outputs": [],
   "source": [
    "final_model = clf.best_estimator_"
   ]
  },
  {
   "cell_type": "code",
   "execution_count": 41,
   "metadata": {
    "ExecuteTime": {
     "end_time": "2020-06-26T23:52:39.502511Z",
     "start_time": "2020-06-26T23:52:39.483082Z"
    }
   },
   "outputs": [],
   "source": [
    "Subset_1, Subset_2, true_1, true_2 = train_test_split(X_encoded, y, test_size=.5, random_state=2020)"
   ]
  },
  {
   "cell_type": "code",
   "execution_count": 42,
   "metadata": {
    "ExecuteTime": {
     "end_time": "2020-06-26T23:52:40.117466Z",
     "start_time": "2020-06-26T23:52:39.505077Z"
    }
   },
   "outputs": [
    {
     "name": "stdout",
     "output_type": "stream",
     "text": [
      "              precision    recall  f1-score   support\n",
      "\n",
      "           0       0.86      0.95      0.90     11125\n",
      "           1       0.78      0.51      0.62      3527\n",
      "\n",
      "    accuracy                           0.85     14652\n",
      "   macro avg       0.82      0.73      0.76     14652\n",
      "weighted avg       0.84      0.85      0.84     14652\n",
      "\n",
      "Accurancy:  0.8471198471198471\n"
     ]
    },
    {
     "data": {
      "image/png": "[encoded data removed]",
      "text/plain": [
       "<Figure size 432x288 with 2 Axes>"
      ]
     },
     "metadata": {
      "needs_background": "light"
     },
     "output_type": "display_data"
    },
    {
     "name": "stdout",
     "output_type": "stream",
     "text": [
      "              precision    recall  f1-score   support\n",
      "\n",
      "           0       0.86      0.95      0.90     11102\n",
      "           1       0.76      0.52      0.62      3551\n",
      "\n",
      "    accuracy                           0.84     14653\n",
      "   macro avg       0.81      0.74      0.76     14653\n",
      "weighted avg       0.84      0.84      0.83     14653\n",
      "\n",
      "Accurancy:  0.8444004640687913\n"
     ]
    },
    {
     "data": {
      "image/png": "[encoded data removed]",
      "text/plain": [
       "<Figure size 432x288 with 2 Axes>"
      ]
     },
     "metadata": {
      "needs_background": "light"
     },
     "output_type": "display_data"
    }
   ],
   "source": [
    "preds_1 = final_model.predict(Subset_1)\n",
    "preds_2 = final_model.predict(Subset_2)\n",
    "\n",
    "evaluation(true_1, preds_1, title = 'Training Data')\n",
    "evaluation(true_2, preds_2, title = 'Testing Data')"
   ]
  },
  {
   "cell_type": "markdown",
   "metadata": {},
   "source": [
    "# Final Pipeline"
   ]
  },
  {
   "cell_type": "code",
   "execution_count": 43,
   "metadata": {
    "ExecuteTime": {
     "end_time": "2020-06-26T23:52:40.289193Z",
     "start_time": "2020-06-26T23:52:40.119847Z"
    }
   },
   "outputs": [],
   "source": [
    "%load_ext autoreload\n",
    "%autoreload 2\n",
    "\n",
    "from src.pipeline import *\n",
    "\n",
    "final_data_binner = Pipeline(steps=[\n",
    "    ('bin_capital_gain', BinCapital(col_name = 'capital_gain')),\n",
    "    ('bin_capital_loss', BinCapital(col_name = 'capital_loss')),\n",
    "    ('bin_age', BinAge()),\n",
    "    ('hot_encode', HotEncodeMerge())])\n",
    "\n",
    "\n",
    "final_data_prep = Pipeline(steps=[\n",
    "    ('validate_data', ValidateAndRenameColumns()),\n",
    "    (\"data_binning\", final_data_binner)])\n",
    "\n",
    "final_pipeline = Pipeline(steps=[('prep',final_data_prep), ('model', final_model)])"
   ]
  },
  {
   "cell_type": "code",
   "execution_count": 44,
   "metadata": {
    "ExecuteTime": {
     "end_time": "2020-06-26T23:52:41.947866Z",
     "start_time": "2020-06-26T23:52:40.291575Z"
    }
   },
   "outputs": [
    {
     "data": {
      "text/plain": [
       "Pipeline(memory=None,\n",
       "         steps=[('prep',\n",
       "                 Pipeline(memory=None,\n",
       "                          steps=[('validate_data', ValidateAndRenameColumns()),\n",
       "                                 ('data_binning',\n",
       "                                  Pipeline(memory=None,\n",
       "                                           steps=[('bin_capital_gain',\n",
       "                                                   BinCapital(col_name='capital_gain')),\n",
       "                                                  ('bin_capital_loss',\n",
       "                                                   BinCapital(col_name='capital_loss')),\n",
       "                                                  ('bin_age', BinAge()),\n",
       "                                                  ('hot_encode',\n",
       "                                                   <src.pipeline.HotEncodeMerge object at 0x1a22bf3a20...\n",
       "                                                         ccp_alpha=0.0,\n",
       "                                                         class_weight=None,\n",
       "                                                         criterion='gini',\n",
       "                                                         max_depth=16,\n",
       "                                                         max_features='auto',\n",
       "                                                         max_leaf_nodes=100,\n",
       "                                                         max_samples=None,\n",
       "                                                         min_impurity_decrease=0.0,\n",
       "                                                         min_impurity_split=None,\n",
       "                                                         min_samples_leaf=1,\n",
       "                                                         min_samples_split=2,\n",
       "                                                         min_weight_fraction_leaf=0.0,\n",
       "                                                         n_estimators=100,\n",
       "                                                         n_jobs=None,\n",
       "                                                         oob_score=False,\n",
       "                                                         random_state=None,\n",
       "                                                         verbose=0,\n",
       "                                                         warm_start=False))],\n",
       "                          verbose=False))],\n",
       "         verbose=False)"
      ]
     },
     "execution_count": 44,
     "metadata": {},
     "output_type": "execute_result"
    }
   ],
   "source": [
    "final_pipeline.fit(df, df.income)"
   ]
  },
  {
   "cell_type": "code",
   "execution_count": 45,
   "metadata": {
    "ExecuteTime": {
     "end_time": "2020-06-26T23:52:42.195030Z",
     "start_time": "2020-06-26T23:52:41.953025Z"
    }
   },
   "outputs": [
    {
     "name": "stdout",
     "output_type": "stream",
     "text": [
      "              precision    recall  f1-score   support\n",
      "\n",
      "           0       0.86      0.94      0.90      2493\n",
      "           1       0.72      0.52      0.60       763\n",
      "\n",
      "    accuracy                           0.84      3256\n",
      "   macro avg       0.79      0.73      0.75      3256\n",
      "weighted avg       0.83      0.84      0.83      3256\n",
      "\n",
      "Accurancy:  0.8409090909090909\n"
     ]
    },
    {
     "data": {
      "image/png": "[encoded data removed]",
      "text/plain": [
       "<Figure size 432x288 with 2 Axes>"
      ]
     },
     "metadata": {
      "needs_background": "light"
     },
     "output_type": "display_data"
    }
   ],
   "source": [
    "validation = pd.read_csv('../data/validation.csv')\n",
    "validation_preds = final_pipeline.predict(validation)\n",
    "validation_y = target_labeler.transform(validation.income)\n",
    "evaluation(validation_y, validation_preds)"
   ]
  },
  {
   "cell_type": "markdown",
   "metadata": {},
   "source": [
    "# Pickling"
   ]
  },
  {
   "cell_type": "markdown",
   "metadata": {},
   "source": [
    "**Pickling** allows us to save python objects as binary files!\n",
    "\n",
    "The pickle module was imported at the top of this notebook using\n",
    "\n",
    "```import pickle```\n",
    "\n",
    "With picklem, can save lists, dictionaries, and we can even save functions!\n",
    "\n",
    "Here, we will look at saving models so they can be used outside out of a Jupyter Notebook!"
   ]
  },
  {
   "cell_type": "code",
   "execution_count": 46,
   "metadata": {
    "ExecuteTime": {
     "end_time": "2020-06-26T23:52:42.236865Z",
     "start_time": "2020-06-26T23:52:42.199286Z"
    }
   },
   "outputs": [],
   "source": [
    "with open('../models/RandomForestPipeline.pkl', 'wb') as file:\n",
    "    pickle.dump(final_pipeline, file)"
   ]
  },
  {
   "cell_type": "markdown",
   "metadata": {},
   "source": [
    "Now, we can import the pipeline and apply it to data!"
   ]
  },
  {
   "cell_type": "code",
   "execution_count": 47,
   "metadata": {
    "ExecuteTime": {
     "end_time": "2020-06-26T23:52:42.273113Z",
     "start_time": "2020-06-26T23:52:42.239012Z"
    }
   },
   "outputs": [],
   "source": [
    "with open('../models/RandomForestPipeline.pkl', 'rb') as file:\n",
    "    imported_pipeline = pickle.load(file)"
   ]
  },
  {
   "cell_type": "code",
   "execution_count": 48,
   "metadata": {
    "ExecuteTime": {
     "end_time": "2020-06-26T23:52:42.707775Z",
     "start_time": "2020-06-26T23:52:42.275252Z"
    }
   },
   "outputs": [
    {
     "data": {
      "text/plain": [
       "array([0, 1, 0, ..., 0, 0, 1])"
      ]
     },
     "execution_count": 48,
     "metadata": {},
     "output_type": "execute_result"
    }
   ],
   "source": [
    "final_pipeline.predict(df)"
   ]
  }
 ],
 "metadata": {
  "hide_input": false,
  "kernelspec": {
   "display_name": "Python 3",
   "language": "python",
   "name": "python3"
  },
  "language_info": {
   "codemirror_mode": {
    "name": "ipython",
    "version": 3
   },
   "file_extension": ".py",
   "mimetype": "text/x-python",
   "name": "python",
   "nbconvert_exporter": "python",
   "pygments_lexer": "ipython3",
   "version": "3.7.3"
  },
  "toc": {
   "base_numbering": 1,
   "nav_menu": {},
   "number_sections": false,
   "sideBar": true,
   "skip_h1_title": true,
   "title_cell": "Table of Contents",
   "title_sidebar": "Contents",
   "toc_cell": false,
   "toc_position": {},
   "toc_section_display": true,
   "toc_window_display": false
  },
  "varInspector": {
   "cols": {
    "lenName": 16,
    "lenType": 16,
    "lenVar": 40
   },
   "kernels_config": {
    "python": {
     "delete_cmd_postfix": "",
     "delete_cmd_prefix": "del ",
     "library": "var_list.py",
     "varRefreshCmd": "print(var_dic_list())"
    },
    "r": {
     "delete_cmd_postfix": ") ",
     "delete_cmd_prefix": "rm(",
     "library": "var_list.r",
     "varRefreshCmd": "cat(var_dic_list()) "
    }
   },
   "types_to_exclude": [
    "module",
    "function",
    "builtin_function_or_method",
    "instance",
    "_Feature"
   ],
   "window_display": false
  }
 },
 "nbformat": 4,
 "nbformat_minor": 2
}
